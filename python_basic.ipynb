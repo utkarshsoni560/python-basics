{
  "nbformat": 4,
  "nbformat_minor": 0,
  "metadata": {
    "colab": {
      "provenance": []
    },
    "kernelspec": {
      "name": "python3",
      "display_name": "Python 3"
    },
    "language_info": {
      "name": "python"
    }
  },
  "cells": [
    {
      "cell_type": "markdown",
      "source": [
        "#python basics questions\n",
        " 1. What is Python, and why is it popular?\n",
        "- Python is a high-level, interpreted, general-purpose programming language. It is popular because of\n",
        " its simple syntax, readability, versatility, and strong community support. It's widely used in web\n",
        " development, data science, automation, AI/ML, and more.\n",
        " 2. What is an interpreter in Python?\n",
        "- An interpreter is a program that executes code line-by-line. Python uses an interpreter to translate\n",
        " source code into bytecode and then runs it. This allows for quick testing and debugging.\n",
        " 3. What are pre-defined keywords in Python?\n",
        " -Pre-defined keywords are reserved words in Python that have special meanings and functions, like\n",
        " 'if', 'else', 'while', 'def', 'return', etc. They cannot be used as variable names.\n",
        " 4. Can keywords be used as variable names?\n",
        " -No, keywords cannot be used as variable names because they are reserved by Python for specific\n",
        " syntactic purposes.\n",
        " 5. What is mutability in Python?\n",
        " -Mutability refers to whether an object's content can be changed after it is created. Mutable objects\n",
        " (like lists and dictionaries) can be changed, while immutable objects (like strings and tuples) cannot\n",
        " be changed once created.\n",
        " 6. Why are lists mutable, but tuples are immutable?\n",
        " -Lists are mutable because they are designed to store dynamic collections of items that can change.\n",
        " Tuples are immutable to ensure data integrity and are used when a fixed collection of items is\n",
        " needed.\n",
        " 7. What is the difference between '==' and 'is' operators in Python?\n",
        " -'==' checks if two values are equal. 'is' checks if two variables refer to the same object in memory.\n",
        " 8. What are logical operators in Python?\n",
        " -Logical operators are used to combine conditional statements:\n",
        "- and: Returns True if both conditions are true.- or: Returns True if at least one condition is true.- not: Reverses the result (True becomes False and vice versa).\n",
        " 9. What is type casting in Python?\n",
        " -Type casting is the process of converting one data type into another, such as converting a string to\n",
        " an integer using int('5') or a float to a string using str(3.14).\n",
        " 10. What is the difference between implicit and explicit type casting?\n",
        " -Implicit casting: Python automatically converts the data type (e.g., int to float).\n",
        " Explicit casting: The programmer manually converts the data type using functions like int(), float(), or\n",
        " str().\n",
        " 11. What is the purpose of conditional statements in Python?\n",
        " -Conditional statements (if, elif, else) control the flow of execution based on conditions. They allow\n",
        " the program to make decisions and execute different blocks of code depending on the input or\n",
        " situation.\n",
        " 12. How does the elif statement work?\n",
        " -The elif (short for 'else if') checks another condition if the previous if statement was false. You can\n",
        " have multiple elif blocks to handle various conditions.\n",
        " 13. What is the difference between for and while loops?\n",
        " -for loop is used when the number of iterations is known or finite (e.g., looping through a list or\n",
        " range).\n",
        " while loop is used when the condition needs to be checked until it becomes false, and the number of\n",
        " iterations is not known in advance.\n",
        " 14. Describe a scenario where a while loop is more suitable than a for loop.\n",
        " -When you want to keep asking a user for input until they enter a valid password, and you don't know many tries they will take a while loop is better:\n",
        "\n",
        "\n",
        "\n"
      ],
      "metadata": {
        "id": "_wM7CXhnPqfA"
      }
    },
    {
      "cell_type": "markdown",
      "source": [
        "#practical questions"
      ],
      "metadata": {
        "id": "N2i5GaFBS7eH"
      }
    },
    {
      "cell_type": "code",
      "source": [
        "\n",
        " #1. Write a Python program to print \"Hello, World!\n",
        " print(\"hello,world!\")"
      ],
      "metadata": {
        "id": "FFXrSPKiYNk_",
        "colab": {
          "base_uri": "https://localhost:8080/"
        },
        "outputId": "16054dfb-684e-4707-c7e6-cdb5dc291996"
      },
      "execution_count": null,
      "outputs": [
        {
          "output_type": "stream",
          "name": "stdout",
          "text": [
            "hello,world!\n"
          ]
        }
      ]
    },
    {
      "cell_type": "code",
      "source": [
        "\n",
        " #2. Write a Python program that displays your name and age\n",
        " a=utkarsh\n",
        " b=21\n",
        " print(f\"my name is {a} and i am {b} years old\")\n"
      ],
      "metadata": {
        "id": "Arr8QpDdTkYM"
      },
      "execution_count": null,
      "outputs": []
    },
    {
      "cell_type": "code",
      "source": [],
      "metadata": {
        "id": "VusnglhtUPNh"
      },
      "execution_count": null,
      "outputs": []
    },
    {
      "cell_type": "code",
      "source": [
        "\n",
        " #3. Write code to print all the pre-defined keywords in Python using the keyword library\n",
        " import keyword\n",
        " print(keyword.kwlist)"
      ],
      "metadata": {
        "colab": {
          "base_uri": "https://localhost:8080/"
        },
        "outputId": "37fd9ac5-ade2-46da-c6a6-3374d49bbe91",
        "id": "x37Ap6F9UTca"
      },
      "execution_count": null,
      "outputs": [
        {
          "output_type": "stream",
          "name": "stdout",
          "text": [
            "['False', 'None', 'True', 'and', 'as', 'assert', 'async', 'await', 'break', 'class', 'continue', 'def', 'del', 'elif', 'else', 'except', 'finally', 'for', 'from', 'global', 'if', 'import', 'in', 'is', 'lambda', 'nonlocal', 'not', 'or', 'pass', 'raise', 'return', 'try', 'while', 'with', 'yield']\n"
          ]
        }
      ]
    },
    {
      "cell_type": "code",
      "source": [
        "#4. Write a program that checks if a given word is a Python keyword\n",
        "import keyword\n",
        "word=input(\"enter a word:\")\n",
        "print(f\"{word} is a keyword:{keyword.iskeyword(word)}\")"
      ],
      "metadata": {
        "colab": {
          "base_uri": "https://localhost:8080/"
        },
        "id": "G8LxDHu5UeG0",
        "outputId": "dafc83b0-69eb-44ab-9f8c-d45c854a3002"
      },
      "execution_count": null,
      "outputs": [
        {
          "output_type": "stream",
          "name": "stdout",
          "text": [
            "enter a word:and\n",
            "and is a keyword:True\n"
          ]
        }
      ]
    },
    {
      "cell_type": "code",
      "source": [
        " \"\"\"5.Create a list and tuple in Python, and demonstrate how attempting to change an element works differently\n",
        "for each.\"\"\"\n",
        "my_list=[1,2,3]\n",
        "my_tuple=(4,5,6)\n",
        "\n",
        "my_list[0]=10\n",
        "\n",
        "print(\"modified list:\",my_list)\n",
        "print(\"tuple(unchanged):\",my_tuple)"
      ],
      "metadata": {
        "colab": {
          "base_uri": "https://localhost:8080/"
        },
        "id": "vMiX11QgVfX8",
        "outputId": "5bc73fcb-bf17-4d70-a48e-498897ea1456"
      },
      "execution_count": null,
      "outputs": [
        {
          "output_type": "stream",
          "name": "stdout",
          "text": [
            "modified list: [10, 2, 3]\n",
            "tuple(unchanged): (4, 5, 6)\n"
          ]
        }
      ]
    },
    {
      "cell_type": "code",
      "source": [
        "#6.Write a function to demonstrate the behavior of mutable and immutable arguments.\n",
        "def modify_list(lst):\n",
        "  lst.append(100)\n",
        "\n",
        "def modify_int(n):\n",
        "  n += 10\n",
        "  return n\n",
        "\n",
        "a=[1,2,3]\n",
        "b=5\n",
        "\n",
        "modify_list(a)\n",
        "b = modify_int(b)\n",
        "\n",
        "print(\"list after modification:\",a)\n",
        "print(\"integer after modification:\",b)"
      ],
      "metadata": {
        "colab": {
          "base_uri": "https://localhost:8080/"
        },
        "id": "-wse2YDXW1i9",
        "outputId": "2763e0d2-6030-4698-96bd-e379c97cdca6"
      },
      "execution_count": null,
      "outputs": [
        {
          "output_type": "stream",
          "name": "stdout",
          "text": [
            "list after modification: [1, 2, 3, 100]\n",
            "integer after modification: 15\n"
          ]
        }
      ]
    },
    {
      "cell_type": "code",
      "source": [
        "#7.Write a program that performs basic arithmetic operations on two user-input numbers\n",
        "a=int(input(\"enter first number:\"))\n",
        "b=int(input(\"enter second number\"))\n",
        "\n",
        "print(\"sum:\",a+b)\n",
        "print(\"difference:\",a-b)\n",
        "print(\"product:\",a*b)\n",
        "print(\"quotiet:\",a/b)\n"
      ],
      "metadata": {
        "colab": {
          "base_uri": "https://localhost:8080/"
        },
        "id": "pZsQMEUjZ0pP",
        "outputId": "bc9c182b-7231-4afc-a307-1aad8b73dfdb"
      },
      "execution_count": null,
      "outputs": [
        {
          "output_type": "stream",
          "name": "stdout",
          "text": [
            "enter first number:25\n",
            "enter second number5\n",
            "sum: 30\n",
            "difference: 20\n",
            "product: 125\n",
            "quotiet: 5.0\n"
          ]
        }
      ]
    },
    {
      "cell_type": "code",
      "source": [
        " #8.Write a program to demonstrate the use of logical operators.\n",
        " a=10\n",
        " b=5\n",
        " c=15\n",
        "\n",
        " #logical AND\n",
        " print((a>b)and(c>a))\n",
        "\n",
        " #logical OR\n",
        " print((a<b)or(c>a))\n",
        "\n",
        " #logical not\n",
        "print(not(a<b))\n"
      ],
      "metadata": {
        "colab": {
          "base_uri": "https://localhost:8080/"
        },
        "id": "2Y5FYURIfp1j",
        "outputId": "e7e1bf40-5a74-4bf8-c6ca-39e21507e1c4"
      },
      "execution_count": null,
      "outputs": [
        {
          "output_type": "stream",
          "name": "stdout",
          "text": [
            "True\n",
            "True\n",
            "True\n"
          ]
        }
      ]
    },
    {
      "cell_type": "code",
      "source": [
        "#9.Write a Python program to convert user input from string to integer, float, and boolean types.\n",
        "\n",
        "user_input=input(\"enter a value:\")\n",
        "\n",
        "int_val=int(user_input)\n",
        "float_val=float(user_input)\n",
        "bool_val=bool(user_input)\n",
        "\n",
        "print(\"integer:\",int_val)\n",
        "print(\"float:\",float_val)\n",
        "print(\"boolean:\",bool_val)\n"
      ],
      "metadata": {
        "colab": {
          "base_uri": "https://localhost:8080/"
        },
        "id": "2tdrIswRgq-f",
        "outputId": "361c39b5-139a-4b5f-9db0-b95094c0d52f"
      },
      "execution_count": null,
      "outputs": [
        {
          "output_type": "stream",
          "name": "stdout",
          "text": [
            "enter a value:5\n",
            "integer: 5\n",
            "float: 5.0\n",
            "boolean: True\n"
          ]
        }
      ]
    },
    {
      "cell_type": "code",
      "source": [
        "#10.Write code to demonstrate type casting with list elements.\n",
        "# Type casting example with list elements\n",
        "my_list = ['1', '2', '3.5', 'True']\n",
        "\n",
        "# Convert list elements to respective types\n",
        "int_list = [int(x) for x in my_list[:2]]\n",
        "float_list = [float(my_list[2])]\n",
        "bool_list = [bool(my_list[3])]\n",
        "\n",
        "print(\"Integer List:\", int_list)\n",
        "print(\"Float List:\", float_list)\n",
        "print(\"Boolean List:\", bool_list)\n"
      ],
      "metadata": {
        "colab": {
          "base_uri": "https://localhost:8080/"
        },
        "id": "cx7n3E2fiUB2",
        "outputId": "092a42f1-c8c1-4ba7-8aa2-d7721b3cd563"
      },
      "execution_count": null,
      "outputs": [
        {
          "output_type": "stream",
          "name": "stdout",
          "text": [
            "Integer List: [1, 2]\n",
            "Float List: [3.5]\n",
            "Boolean List: [True]\n"
          ]
        }
      ]
    },
    {
      "cell_type": "code",
      "source": [
        "#11.Write a program that checks if a number is positive, negative, or zero.\n",
        "# Taking input from the user\n",
        "num = float(input(\"Enter a number: \"))\n",
        "\n",
        "# Checking the number\n",
        "if num > 0:\n",
        "    print(\"Positive\")\n",
        "elif num < 0:\n",
        "    print(\"Negative\")\n",
        "else:\n",
        "    print(\"Zero\")\n"
      ],
      "metadata": {
        "colab": {
          "base_uri": "https://localhost:8080/"
        },
        "id": "9XX8s2zxj-tM",
        "outputId": "3b9ab77e-8866-4b38-835d-cb1214c4ff8c"
      },
      "execution_count": null,
      "outputs": [
        {
          "output_type": "stream",
          "name": "stdout",
          "text": [
            "Enter a number: 5.5\n",
            "Positive\n"
          ]
        }
      ]
    },
    {
      "cell_type": "code",
      "source": [
        "#12.Write a for loop to print numbers from 1 to 10.\n",
        "for num in range(1, 11):\n",
        "    print(num)\n"
      ],
      "metadata": {
        "colab": {
          "base_uri": "https://localhost:8080/"
        },
        "id": "IJ5yDMXgkMEx",
        "outputId": "e8fe3c60-30ad-4eb4-cf0d-122f06970800"
      },
      "execution_count": null,
      "outputs": [
        {
          "output_type": "stream",
          "name": "stdout",
          "text": [
            "1\n",
            "2\n",
            "3\n",
            "4\n",
            "5\n",
            "6\n",
            "7\n",
            "8\n",
            "9\n",
            "10\n"
          ]
        }
      ]
    },
    {
      "cell_type": "code",
      "source": [
        "#13. Write a Python program to find the sum of all even numbers between 1 and 50.\n",
        "even_sum = sum(num for num in range(1, 51) if num % 2 == 0)\n",
        "print(\"Sum of all even numbers between 1 and 50:\", even_sum)\n"
      ],
      "metadata": {
        "colab": {
          "base_uri": "https://localhost:8080/"
        },
        "id": "bJjc3WcpkV82",
        "outputId": "523cdff3-6e7c-4555-c85b-82a339f639e2"
      },
      "execution_count": null,
      "outputs": [
        {
          "output_type": "stream",
          "name": "stdout",
          "text": [
            "Sum of all even numbers between 1 and 50: 650\n"
          ]
        }
      ]
    },
    {
      "cell_type": "markdown",
      "source": [],
      "metadata": {
        "id": "2h2XK8g0kpM-"
      }
    },
    {
      "cell_type": "code",
      "source": [
        "#14.Write a program to reverse a string using a while loop.\n",
        "# Input string\n",
        "string = input(\"Enter a string: \")\n",
        "reversed_string = \"\"\n",
        "i = len(string) - 1\n",
        "\n",
        "# Reversing using while loop\n",
        "while i >= 0:\n",
        "    reversed_string += string[i]\n",
        "    i -= 1\n",
        "\n",
        "print(\"Reversed string:\", reversed_string)\n"
      ],
      "metadata": {
        "colab": {
          "base_uri": "https://localhost:8080/"
        },
        "id": "eHFggnGnkkZb",
        "outputId": "7f33cc17-9715-4b33-91ea-a8a6ccd3e7aa"
      },
      "execution_count": null,
      "outputs": [
        {
          "output_type": "stream",
          "name": "stdout",
          "text": [
            "Enter a string: hello\n",
            "Reversed string: olleh\n"
          ]
        }
      ]
    },
    {
      "cell_type": "code",
      "source": [
        "#15.Write a Python program to calculate the factorial of a number provided by the user using a while loop.\n",
        "# Taking input from the user\n",
        "num = int(input(\"Enter a number: \"))\n",
        "factorial = 1\n",
        "i = 1\n",
        "\n",
        "# Calculating factorial using while loop\n",
        "while i <= num:\n",
        "    factorial *= i\n",
        "    i += 1\n",
        "\n",
        "print(f\"Factorial of {num} is {factorial}\")\n"
      ],
      "metadata": {
        "colab": {
          "base_uri": "https://localhost:8080/"
        },
        "id": "gUUnN4h0kz3Q",
        "outputId": "60a10698-b2dc-44a9-b03c-08bd8a1c4fed"
      },
      "execution_count": null,
      "outputs": [
        {
          "output_type": "stream",
          "name": "stdout",
          "text": [
            "Enter a number: 5\n",
            "Factorial of 5 is 120\n"
          ]
        }
      ]
    }
  ]
}